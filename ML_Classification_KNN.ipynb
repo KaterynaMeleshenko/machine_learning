{
 "cells": [
  {
   "cell_type": "markdown",
   "id": "7ec0ad79-38d0-4cd7-87b3-9458b0b9f598",
   "metadata": {},
   "source": [
    "<h1><center>Supervised Machine Learning (with Scikit-Learn)</center></h1>"
   ]
  },
  {
   "cell_type": "markdown",
   "id": "6006bcc4-a26a-4f73-b067-03f54a82250f",
   "metadata": {},
   "source": [
    "<h2><center>Classification (with K-Nearest Neighbour (KNN) algorythm)</center></h2>"
   ]
  },
  {
   "cell_type": "markdown",
   "id": "1c899b23-cc7d-4a06-8bf0-e39138dc4862",
   "metadata": {},
   "source": [
    "<h3>Here I'm going to build a classification model that will classify countries into five groups according to their level of Innovation, Investment and Implementation of AI. The level is defined by The Global AI Index (\"Total Score\" in the dataset) calculated by Tortoise Media via weighting and summarizing 7 indicators: Talent, Infrastructure, Operating Environment, Research, Development, Government Strategy, Commercial.</h3>"
   ]
  },
  {
   "cell_type": "code",
   "execution_count": 140,
   "id": "116c0d78-7b2a-4e63-b24a-9ce3979d956f",
   "metadata": {},
   "outputs": [],
   "source": [
    "import pandas as pd\n",
    "import numpy as np"
   ]
  },
  {
   "cell_type": "code",
   "execution_count": 141,
   "id": "d7e249a6-2d12-40f3-9175-83e842cb9214",
   "metadata": {},
   "outputs": [
    {
     "data": {
      "text/html": [
       "<div>\n",
       "<style scoped>\n",
       "    .dataframe tbody tr th:only-of-type {\n",
       "        vertical-align: middle;\n",
       "    }\n",
       "\n",
       "    .dataframe tbody tr th {\n",
       "        vertical-align: top;\n",
       "    }\n",
       "\n",
       "    .dataframe thead th {\n",
       "        text-align: right;\n",
       "    }\n",
       "</style>\n",
       "<table border=\"1\" class=\"dataframe\">\n",
       "  <thead>\n",
       "    <tr style=\"text-align: right;\">\n",
       "      <th></th>\n",
       "      <th>Talent</th>\n",
       "      <th>Infrastructure</th>\n",
       "      <th>Operating Environment</th>\n",
       "      <th>Research</th>\n",
       "      <th>Development</th>\n",
       "      <th>Government Strategy</th>\n",
       "      <th>Commercial</th>\n",
       "      <th>Total score</th>\n",
       "      <th>Region</th>\n",
       "      <th>Cluster</th>\n",
       "      <th>Income group</th>\n",
       "      <th>Political regime</th>\n",
       "    </tr>\n",
       "    <tr>\n",
       "      <th>Country</th>\n",
       "      <th></th>\n",
       "      <th></th>\n",
       "      <th></th>\n",
       "      <th></th>\n",
       "      <th></th>\n",
       "      <th></th>\n",
       "      <th></th>\n",
       "      <th></th>\n",
       "      <th></th>\n",
       "      <th></th>\n",
       "      <th></th>\n",
       "      <th></th>\n",
       "    </tr>\n",
       "  </thead>\n",
       "  <tbody>\n",
       "    <tr>\n",
       "      <th>United States of America</th>\n",
       "      <td>100.00</td>\n",
       "      <td>94.02</td>\n",
       "      <td>64.56</td>\n",
       "      <td>100.00</td>\n",
       "      <td>100.00</td>\n",
       "      <td>77.39</td>\n",
       "      <td>100.00</td>\n",
       "      <td>100.00</td>\n",
       "      <td>Americas</td>\n",
       "      <td>Power players</td>\n",
       "      <td>High</td>\n",
       "      <td>Liberal democracy</td>\n",
       "    </tr>\n",
       "    <tr>\n",
       "      <th>China</th>\n",
       "      <td>16.51</td>\n",
       "      <td>100.00</td>\n",
       "      <td>91.57</td>\n",
       "      <td>71.42</td>\n",
       "      <td>79.97</td>\n",
       "      <td>94.87</td>\n",
       "      <td>44.02</td>\n",
       "      <td>62.92</td>\n",
       "      <td>Asia-Pacific</td>\n",
       "      <td>Power players</td>\n",
       "      <td>Upper middle</td>\n",
       "      <td>Closed autocracy</td>\n",
       "    </tr>\n",
       "    <tr>\n",
       "      <th>United Kingdom</th>\n",
       "      <td>39.65</td>\n",
       "      <td>71.43</td>\n",
       "      <td>74.65</td>\n",
       "      <td>36.50</td>\n",
       "      <td>25.03</td>\n",
       "      <td>82.82</td>\n",
       "      <td>18.91</td>\n",
       "      <td>40.93</td>\n",
       "      <td>Europe</td>\n",
       "      <td>Traditional champions</td>\n",
       "      <td>High</td>\n",
       "      <td>Liberal democracy</td>\n",
       "    </tr>\n",
       "    <tr>\n",
       "      <th>Canada</th>\n",
       "      <td>31.28</td>\n",
       "      <td>77.05</td>\n",
       "      <td>93.94</td>\n",
       "      <td>30.67</td>\n",
       "      <td>25.78</td>\n",
       "      <td>100.00</td>\n",
       "      <td>14.88</td>\n",
       "      <td>40.19</td>\n",
       "      <td>Americas</td>\n",
       "      <td>Traditional champions</td>\n",
       "      <td>High</td>\n",
       "      <td>Liberal democracy</td>\n",
       "    </tr>\n",
       "    <tr>\n",
       "      <th>Israel</th>\n",
       "      <td>35.76</td>\n",
       "      <td>67.58</td>\n",
       "      <td>82.44</td>\n",
       "      <td>32.63</td>\n",
       "      <td>27.96</td>\n",
       "      <td>43.91</td>\n",
       "      <td>27.33</td>\n",
       "      <td>39.89</td>\n",
       "      <td>Middle East</td>\n",
       "      <td>Rising stars</td>\n",
       "      <td>High</td>\n",
       "      <td>Liberal democracy</td>\n",
       "    </tr>\n",
       "  </tbody>\n",
       "</table>\n",
       "</div>"
      ],
      "text/plain": [
       "                          Talent  Infrastructure  Operating Environment  \\\n",
       "Country                                                                   \n",
       "United States of America  100.00           94.02                  64.56   \n",
       "China                      16.51          100.00                  91.57   \n",
       "United Kingdom             39.65           71.43                  74.65   \n",
       "Canada                     31.28           77.05                  93.94   \n",
       "Israel                     35.76           67.58                  82.44   \n",
       "\n",
       "                          Research  Development  Government Strategy  \\\n",
       "Country                                                                \n",
       "United States of America    100.00       100.00                77.39   \n",
       "China                        71.42        79.97                94.87   \n",
       "United Kingdom               36.50        25.03                82.82   \n",
       "Canada                       30.67        25.78               100.00   \n",
       "Israel                       32.63        27.96                43.91   \n",
       "\n",
       "                          Commercial  Total score        Region  \\\n",
       "Country                                                           \n",
       "United States of America      100.00       100.00      Americas   \n",
       "China                          44.02        62.92  Asia-Pacific   \n",
       "United Kingdom                 18.91        40.93        Europe   \n",
       "Canada                         14.88        40.19      Americas   \n",
       "Israel                         27.33        39.89   Middle East   \n",
       "\n",
       "                                        Cluster  Income group  \\\n",
       "Country                                                         \n",
       "United States of America          Power players          High   \n",
       "China                             Power players  Upper middle   \n",
       "United Kingdom            Traditional champions          High   \n",
       "Canada                    Traditional champions          High   \n",
       "Israel                             Rising stars          High   \n",
       "\n",
       "                           Political regime  \n",
       "Country                                      \n",
       "United States of America  Liberal democracy  \n",
       "China                      Closed autocracy  \n",
       "United Kingdom            Liberal democracy  \n",
       "Canada                    Liberal democracy  \n",
       "Israel                    Liberal democracy  "
      ]
     },
     "execution_count": 141,
     "metadata": {},
     "output_type": "execute_result"
    }
   ],
   "source": [
    "# Import dataset\n",
    "filename = \"AI_index_db.csv\"\n",
    "df = pd.read_csv(filename, index_col=0)\n",
    "df.head(5)"
   ]
  },
  {
   "cell_type": "code",
   "execution_count": 142,
   "id": "bdd8856c-51b2-43a7-9b3e-7459dd9bc0c5",
   "metadata": {},
   "outputs": [],
   "source": [
    "# Import KNeighborsClassifier\n",
    "from sklearn.neighbors import KNeighborsClassifier "
   ]
  },
  {
   "cell_type": "markdown",
   "id": "2693cb9d-b747-4629-a1e5-92c858b0cdb1",
   "metadata": {},
   "source": [
    "Classification group (\"Cluster\" in the dataset) is affected by The Global AI Index, but let's make the process more interesting and assume that we have no idea which indicator influences the classification group and let the model to define it."
   ]
  },
  {
   "cell_type": "code",
   "execution_count": 143,
   "id": "9ac8cb31-b04d-4593-b11f-abed1f512ece",
   "metadata": {},
   "outputs": [],
   "source": [
    "# Create arrays for the features and the target variable\n",
    "y = df[\"Cluster\"].values\n",
    "X = df[[\"Talent\", \"Infrastructure\", \"Operating Environment\", \"Research\", \"Development\", \"Government Strategy\", \"Commercial\", \"Total score\"]].values"
   ]
  },
  {
   "cell_type": "code",
   "execution_count": 144,
   "id": "08ce735d-de83-4f78-8539-72f12d6287d8",
   "metadata": {},
   "outputs": [
    {
     "data": {
      "text/html": [
       "<style>#sk-container-id-14 {color: black;background-color: white;}#sk-container-id-14 pre{padding: 0;}#sk-container-id-14 div.sk-toggleable {background-color: white;}#sk-container-id-14 label.sk-toggleable__label {cursor: pointer;display: block;width: 100%;margin-bottom: 0;padding: 0.3em;box-sizing: border-box;text-align: center;}#sk-container-id-14 label.sk-toggleable__label-arrow:before {content: \"▸\";float: left;margin-right: 0.25em;color: #696969;}#sk-container-id-14 label.sk-toggleable__label-arrow:hover:before {color: black;}#sk-container-id-14 div.sk-estimator:hover label.sk-toggleable__label-arrow:before {color: black;}#sk-container-id-14 div.sk-toggleable__content {max-height: 0;max-width: 0;overflow: hidden;text-align: left;background-color: #f0f8ff;}#sk-container-id-14 div.sk-toggleable__content pre {margin: 0.2em;color: black;border-radius: 0.25em;background-color: #f0f8ff;}#sk-container-id-14 input.sk-toggleable__control:checked~div.sk-toggleable__content {max-height: 200px;max-width: 100%;overflow: auto;}#sk-container-id-14 input.sk-toggleable__control:checked~label.sk-toggleable__label-arrow:before {content: \"▾\";}#sk-container-id-14 div.sk-estimator input.sk-toggleable__control:checked~label.sk-toggleable__label {background-color: #d4ebff;}#sk-container-id-14 div.sk-label input.sk-toggleable__control:checked~label.sk-toggleable__label {background-color: #d4ebff;}#sk-container-id-14 input.sk-hidden--visually {border: 0;clip: rect(1px 1px 1px 1px);clip: rect(1px, 1px, 1px, 1px);height: 1px;margin: -1px;overflow: hidden;padding: 0;position: absolute;width: 1px;}#sk-container-id-14 div.sk-estimator {font-family: monospace;background-color: #f0f8ff;border: 1px dotted black;border-radius: 0.25em;box-sizing: border-box;margin-bottom: 0.5em;}#sk-container-id-14 div.sk-estimator:hover {background-color: #d4ebff;}#sk-container-id-14 div.sk-parallel-item::after {content: \"\";width: 100%;border-bottom: 1px solid gray;flex-grow: 1;}#sk-container-id-14 div.sk-label:hover label.sk-toggleable__label {background-color: #d4ebff;}#sk-container-id-14 div.sk-serial::before {content: \"\";position: absolute;border-left: 1px solid gray;box-sizing: border-box;top: 0;bottom: 0;left: 50%;z-index: 0;}#sk-container-id-14 div.sk-serial {display: flex;flex-direction: column;align-items: center;background-color: white;padding-right: 0.2em;padding-left: 0.2em;position: relative;}#sk-container-id-14 div.sk-item {position: relative;z-index: 1;}#sk-container-id-14 div.sk-parallel {display: flex;align-items: stretch;justify-content: center;background-color: white;position: relative;}#sk-container-id-14 div.sk-item::before, #sk-container-id-14 div.sk-parallel-item::before {content: \"\";position: absolute;border-left: 1px solid gray;box-sizing: border-box;top: 0;bottom: 0;left: 50%;z-index: -1;}#sk-container-id-14 div.sk-parallel-item {display: flex;flex-direction: column;z-index: 1;position: relative;background-color: white;}#sk-container-id-14 div.sk-parallel-item:first-child::after {align-self: flex-end;width: 50%;}#sk-container-id-14 div.sk-parallel-item:last-child::after {align-self: flex-start;width: 50%;}#sk-container-id-14 div.sk-parallel-item:only-child::after {width: 0;}#sk-container-id-14 div.sk-dashed-wrapped {border: 1px dashed gray;margin: 0 0.4em 0.5em 0.4em;box-sizing: border-box;padding-bottom: 0.4em;background-color: white;}#sk-container-id-14 div.sk-label label {font-family: monospace;font-weight: bold;display: inline-block;line-height: 1.2em;}#sk-container-id-14 div.sk-label-container {text-align: center;}#sk-container-id-14 div.sk-container {/* jupyter's `normalize.less` sets `[hidden] { display: none; }` but bootstrap.min.css set `[hidden] { display: none !important; }` so we also need the `!important` here to be able to override the default hidden behavior on the sphinx rendered scikit-learn.org. See: https://github.com/scikit-learn/scikit-learn/issues/21755 */display: inline-block !important;position: relative;}#sk-container-id-14 div.sk-text-repr-fallback {display: none;}</style><div id=\"sk-container-id-14\" class=\"sk-top-container\"><div class=\"sk-text-repr-fallback\"><pre>KNeighborsClassifier()</pre><b>In a Jupyter environment, please rerun this cell to show the HTML representation or trust the notebook. <br />On GitHub, the HTML representation is unable to render, please try loading this page with nbviewer.org.</b></div><div class=\"sk-container\" hidden><div class=\"sk-item\"><div class=\"sk-estimator sk-toggleable\"><input class=\"sk-toggleable__control sk-hidden--visually\" id=\"sk-estimator-id-14\" type=\"checkbox\" checked><label for=\"sk-estimator-id-14\" class=\"sk-toggleable__label sk-toggleable__label-arrow\">KNeighborsClassifier</label><div class=\"sk-toggleable__content\"><pre>KNeighborsClassifier()</pre></div></div></div></div></div>"
      ],
      "text/plain": [
       "KNeighborsClassifier()"
      ]
     },
     "execution_count": 144,
     "metadata": {},
     "output_type": "execute_result"
    }
   ],
   "source": [
    "# Create a KNN classifier with 5 neighbors\n",
    "knn = KNeighborsClassifier(n_neighbors = 5)\n",
    "\n",
    "# Fit the classifier to the data\n",
    "knn.fit(X, y)"
   ]
  },
  {
   "cell_type": "code",
   "execution_count": 145,
   "id": "b0a06c0e-6cf1-4b99-b5f2-264936e3f469",
   "metadata": {},
   "outputs": [
    {
     "name": "stdout",
     "output_type": "stream",
     "text": [
      "Predictions: ['Rising stars']\n"
     ]
    }
   ],
   "source": [
    "# Check model for Israel\n",
    "X_for_prediction = np.array([[35.76, 67.58, 82.44, 32.63, 27.96, 43.91, 27.33, 39.89]])\n",
    "\n",
    "# Predict the labels for the X_new\n",
    "y_pred = knn.predict(X_for_prediction)\n",
    "\n",
    "# Print the predictions for X_new\n",
    "print(\"Predictions: {}\".format(y_pred)) "
   ]
  },
  {
   "cell_type": "markdown",
   "id": "27d53b1b-3f34-4800-ac46-724126008bbf",
   "metadata": {},
   "source": [
    "Now we can make predictions using a classifier, but how do we know if the model is making correct predictions? We can evaluate its performance!\n",
    "<blockquote>In classification, accuracy is a commonly-used metric. Accuracy is the number of correct predictions divided by the total number of observations.</blockquote>\n",
    "How do we measure accuracy? We could compute accuracy on the data used to fit the classifier. However, as this data was used to train the model, performance will not be indicative of how well it can generalize to unseen data, which is what we are interested in!"
   ]
  },
  {
   "cell_type": "markdown",
   "id": "1bc7821e-0e8d-46ec-ab76-2fe67e1502dc",
   "metadata": {},
   "source": [
    "So, let's train the model and check how it works:"
   ]
  },
  {
   "cell_type": "code",
   "execution_count": 148,
   "id": "1c16935c-8296-4ad3-b3e7-11e871daa65d",
   "metadata": {},
   "outputs": [],
   "source": [
    "# Import the module\n",
    "from sklearn.model_selection import train_test_split\n",
    "\n",
    "X = df[[\"Talent\", \"Infrastructure\", \"Operating Environment\", \"Research\", \"Development\", \"Government Strategy\", \"Commercial\", \"Total score\"]].values\n",
    "y = df[\"Cluster\"].values"
   ]
  },
  {
   "cell_type": "code",
   "execution_count": 149,
   "id": "b0eeddd3-ea89-4ceb-afcb-e9c532c43d1e",
   "metadata": {},
   "outputs": [],
   "source": [
    "# Split into training and test sets\n",
    "X_train, X_test, y_train, y_test = train_test_split(X, y, test_size=0.2, random_state=52, stratify=y)"
   ]
  },
  {
   "cell_type": "code",
   "execution_count": 152,
   "id": "3c28ec8a-b841-4dba-a921-1bdc0c7209bc",
   "metadata": {},
   "outputs": [
    {
     "name": "stdout",
     "output_type": "stream",
     "text": [
      "Score: 0.8461538461538461\n"
     ]
    }
   ],
   "source": [
    "# Create a KNN classifier with 5 neighbors\n",
    "knn = KNeighborsClassifier(n_neighbors=5)\n",
    "\n",
    "# Fit the classifier to the training data\n",
    "knn.fit(X_train, y_train)\n",
    "\n",
    "# Print the accuracy\n",
    "print(\"Score:\", knn.score(X_test, y_test))"
   ]
  },
  {
   "cell_type": "code",
   "execution_count": 153,
   "id": "b7e58c65-04e2-4fcd-9e22-d34429d797db",
   "metadata": {},
   "outputs": [
    {
     "name": "stdout",
     "output_type": "stream",
     "text": [
      "Predictions: ['Waking up']\n"
     ]
    }
   ],
   "source": [
    "# Check model for Israel\n",
    "X_for_prediction = np.array([[35.76, 67.58, 82.44, 32.63, 27.96, 43.91, 27.33, 39.89]])\n",
    "\n",
    "# Predict the labels for the X_new\n",
    "y_pred = knn.predict(X_for_prediction)\n",
    "\n",
    "# Print the predictions for X_new\n",
    "print(\"Predictions: {}\".format(y_pred)) "
   ]
  },
  {
   "cell_type": "markdown",
   "id": "a8d7772e-ad5b-4721-969d-6ec9f788b60c",
   "metadata": {},
   "source": [
    "Ooops, something went wrong, let's check what number of neighbours is more appropriate:"
   ]
  },
  {
   "cell_type": "code",
   "execution_count": 193,
   "id": "31769dee-39ed-4a5b-88b5-5431dc820bb8",
   "metadata": {},
   "outputs": [
    {
     "name": "stdout",
     "output_type": "stream",
     "text": [
      "Train accuracies: {1: 1.0, 2: 0.9387755102040817, 3: 0.9183673469387755, 4: 0.8979591836734694, 5: 0.8775510204081632, 6: 0.8367346938775511, 7: 0.7551020408163265, 8: 0.7346938775510204, 9: 0.7755102040816326, 10: 0.7142857142857143, 11: 0.7346938775510204, 12: 0.7346938775510204} \n",
      " Test accuracies: {1: 0.8461538461538461, 2: 0.8461538461538461, 3: 0.9230769230769231, 4: 0.7692307692307693, 5: 0.8461538461538461, 6: 0.7692307692307693, 7: 0.6153846153846154, 8: 0.6923076923076923, 9: 0.6153846153846154, 10: 0.6153846153846154, 11: 0.6153846153846154, 12: 0.6153846153846154}\n"
     ]
    }
   ],
   "source": [
    "# Try different numbers of neighbours\n",
    "# Create neighbors\n",
    "neighbors = np.arange(1, 13)\n",
    "train_accuracies = {}\n",
    "test_accuracies = {}\n",
    "\n",
    "for neighbor in neighbors:\n",
    "  \n",
    "    # Set up a KNN Classifier\n",
    "    knn = KNeighborsClassifier(n_neighbors=neighbor)\n",
    "  \n",
    "    # Fit the model\n",
    "    knn.fit(X_train, y_train)\n",
    "  \n",
    "    # Compute accuracy\n",
    "    train_accuracies[neighbor] = knn.score(X_train, y_train)\n",
    "    test_accuracies[neighbor] = knn.score(X_test, y_test)\n",
    "\n",
    "print(\"Train accuracies:\", train_accuracies,'\\n',\"Test accuracies:\", test_accuracies)"
   ]
  },
  {
   "cell_type": "markdown",
   "id": "d79a5d1b-9685-4fff-b903-a51d4a62df20",
   "metadata": {},
   "source": [
    "Let's visualize model complexity and select more accurate number of neighbours"
   ]
  },
  {
   "cell_type": "code",
   "execution_count": 155,
   "id": "a079997b-4e0f-401e-be79-d320424236a0",
   "metadata": {},
   "outputs": [
    {
     "data": {
      "image/png": "[encoded data removed]",
      "text/plain": [
       "<Figure size 640x480 with 1 Axes>"
      ]
     },
     "metadata": {},
     "output_type": "display_data"
    }
   ],
   "source": [
    "# Import module\n",
    "from matplotlib import pyplot as plt\n",
    "\n",
    "# Add a title\n",
    "plt.title(\"KNN: Varying Number of Neighbors\")\n",
    "\n",
    "# Plot training accuracies\n",
    "plt.plot(neighbors, train_accuracies.values(), label=\"Training Accuracy\")\n",
    "\n",
    "# Plot test accuracies\n",
    "plt.plot(neighbors, test_accuracies.values(), label=\"Testing Accuracy\")\n",
    "\n",
    "plt.legend()\n",
    "plt.xlabel(\"Number of Neighbors\")\n",
    "plt.ylabel(\"Accuracy\")\n",
    "\n",
    "# Display the plot\n",
    "plt.show()"
   ]
  },
  {
   "cell_type": "markdown",
   "id": "a9300a14-d951-4947-8a43-00a9b1fa565e",
   "metadata": {},
   "source": [
    "It seems like three neighbours is the better choice for the model"
   ]
  },
  {
   "cell_type": "code",
   "execution_count": 200,
   "id": "e5c01a1d-1358-44a8-b250-b0281a5d3521",
   "metadata": {},
   "outputs": [
    {
     "name": "stdout",
     "output_type": "stream",
     "text": [
      "Score: 0.9230769230769231\n",
      "Prediction: ['Rising stars']\n"
     ]
    }
   ],
   "source": [
    "# Create a KNN classifier with 3 neighbors\n",
    "knn = KNeighborsClassifier(n_neighbors=3)\n",
    "\n",
    "# Fit the classifier to the training data\n",
    "knn.fit(X_train, y_train)\n",
    "\n",
    "# Print the accuracy\n",
    "print(\"Score:\", knn.score(X_test, y_test))\n",
    "\n",
    "# Check model for Israel\n",
    "X_for_prediction = np.array([[35.76, 67.58, 82.44, 32.63, 27.96, 43.91, 27.33, 39.89]])\n",
    "\n",
    "# Predict the labels for the X_new\n",
    "y_pred = knn.predict(X_for_prediction)\n",
    "\n",
    "# Print the predictions for X_new\n",
    "print(\"Prediction: {}\".format(y_pred)) "
   ]
  },
  {
   "cell_type": "markdown",
   "id": "18bba573-eca5-45c1-8026-223770857f26",
   "metadata": {},
   "source": [
    "Now the prediction looks better! However, model performance is also dependendent on the way we split up the data.\n",
    "\n",
    "Let's apply cross-validation and check the accuracy:\n",
    "\n",
    "<blockquote>Cross-validation is a vital approach to evaluating a model. It maximizes the amount of data that is available to the model, as the model is not only trained but also tested on all of the available data.</blockquote>\n",
    "\n"
   ]
  },
  {
   "cell_type": "code",
   "execution_count": 185,
   "id": "854e4955-8230-4928-947c-ce59b743965e",
   "metadata": {},
   "outputs": [
    {
     "name": "stdout",
     "output_type": "stream",
     "text": [
      "Scores: [0.84615385 0.84615385 0.83333333 0.91666667 0.75      ]\n"
     ]
    }
   ],
   "source": [
    "# Import k-folder\n",
    "from sklearn.model_selection import cross_val_score, KFold\n",
    "\n",
    "# Use the same model as before\n",
    "knn = KNeighborsClassifier(n_neighbors = 3)\n",
    "\n",
    "# Create a KFold object\n",
    "kf = KFold(n_splits=5, shuffle=True, random_state=42)\n",
    "\n",
    "# Check accuracy for each of five folds \n",
    "scores = cross_val_score(knn, X, y, cv=kf, scoring='accuracy')\n",
    "\n",
    "# Print all 5 times scores \n",
    "print(\"Scores:\", scores)"
   ]
  },
  {
   "cell_type": "markdown",
   "id": "e6480b55-afa3-43d5-a94f-f01feb1bb471",
   "metadata": {},
   "source": [
    "Let's analyze cross-validation metrics:"
   ]
  },
  {
   "cell_type": "code",
   "execution_count": 188,
   "id": "3cc9d259-012b-4f72-bf9d-7adc8eea2e05",
   "metadata": {},
   "outputs": [
    {
     "name": "stdout",
     "output_type": "stream",
     "text": [
      "Mean score: 0.8384615384615384\n",
      "Standard Deviation: 0.05307754242175499\n",
      "95% confidence interval: [0.75833333 0.90961538]\n"
     ]
    }
   ],
   "source": [
    "# Print the mean\n",
    "print(\"Mean score:\", np.mean(scores))\n",
    "\n",
    "# Print the standard deviation\n",
    "print(\"Standard Deviation:\", np.std(scores))\n",
    "\n",
    "# Print the 95% confidence interval\n",
    "print(\"95% confidence interval:\", np.quantile(scores, [0.025, 0.975]))"
   ]
  },
  {
   "cell_type": "markdown",
   "id": "cfc0f11e-a1c0-4a90-974d-af3237568dab",
   "metadata": {},
   "source": [
    "An average score of 0.84 with a low standard deviation is pretty good for a model out of the box!"
   ]
  },
  {
   "cell_type": "markdown",
   "id": "2aa12a6d-e182-49e2-af97-03dca80c579a",
   "metadata": {},
   "source": [
    "Ok, let's make sure that the best cross-validation metrics are still for three neighbours (as we defined before):"
   ]
  },
  {
   "cell_type": "code",
   "execution_count": 199,
   "id": "e2c71f70-edfb-4dff-be74-6dfbb8c47947",
   "metadata": {},
   "outputs": [
    {
     "name": "stdout",
     "output_type": "stream",
     "text": [
      "Scores for 1 neighbour(s): [0.84615385 0.76923077 0.75       0.91666667 0.83333333] 0.823076923076923 0.059390947804617775\n",
      "Scores for 2 neighbour(s): [0.69230769 0.61538462 0.83333333 0.83333333 0.91666667] 0.7782051282051282 0.10875543620742818\n",
      "Scores for 3 neighbour(s): [0.84615385 0.84615385 0.83333333 0.91666667 0.75      ] 0.8384615384615384 0.05307754242175499\n",
      "Scores for 4 neighbour(s): [0.61538462 0.61538462 0.75       0.83333333 0.91666667] 0.7461538461538462 0.11907213047180824\n",
      "Scores for 5 neighbour(s): [0.76923077 0.61538462 0.83333333 0.91666667 0.66666667] 0.7602564102564102 0.10920789455921463\n",
      "Scores for 6 neighbour(s): [0.76923077 0.61538462 0.83333333 0.83333333 0.58333333] 0.726923076923077 0.10723345469911018\n",
      "Scores for 7 neighbour(s): [0.53846154 0.61538462 0.83333333 0.83333333 0.58333333] 0.6807692307692308 0.12694250045627245\n",
      "Scores for 8 neighbour(s): [0.61538462 0.61538462 0.83333333 0.83333333 0.58333333] 0.6961538461538462 0.11261636541537308\n",
      "Scores for 9 neighbour(s): [0.53846154 0.61538462 0.83333333 0.83333333 0.66666667] 0.6974358974358974 0.11822709623998466\n",
      "Scores for 10 neighbour(s): [0.53846154 0.61538462 0.83333333 0.83333333 0.75      ] 0.7141025641025641 0.11858801107535567\n",
      "Scores for 11 neighbour(s): [0.53846154 0.61538462 0.83333333 0.83333333 0.75      ] 0.7141025641025641 0.11858801107535567\n",
      "Scores for 12 neighbour(s): [0.53846154 0.61538462 0.91666667 0.83333333 0.75      ] 0.7307692307692307 0.13837841759565964\n"
     ]
    }
   ],
   "source": [
    "neighbors = np.arange(1, 13)\n",
    "for neighbor in neighbors:\n",
    "    # Use the same model as before\n",
    "    knn = KNeighborsClassifier(n_neighbors = neighbor)\n",
    "\n",
    "    # Create a KFold object\n",
    "    kf = KFold(n_splits=5, shuffle=True, random_state=42)\n",
    "\n",
    "    # Check accuracy for each of five folds \n",
    "    scores = cross_val_score(knn, X, y, cv=kf, scoring='accuracy')\n",
    "\n",
    "    # Print all 5 times scores \n",
    "    print(\"Scores for\", neighbor, \"neighbour(s):\", scores, np.mean(scores), np.std(scores))"
   ]
  },
  {
   "cell_type": "markdown",
   "id": "46bdf9bf-ae00-47f7-aadc-81be1f222cdf",
   "metadata": {},
   "source": [
    "Nice! Now we have a pretty good model that can define a classification group for any country not presented in the dataset (in case we know the neccessary indicators, of course)."
   ]
  }
 ],
 "metadata": {
  "kernelspec": {
   "display_name": "Python 3 (ipykernel)",
   "language": "python",
   "name": "python3"
  },
  "language_info": {
   "codemirror_mode": {
    "name": "ipython",
    "version": 3
   },
   "file_extension": ".py",
   "mimetype": "text/x-python",
   "name": "python",
   "nbconvert_exporter": "python",
   "pygments_lexer": "ipython3",
   "version": "3.10.8"
  }
 },
 "nbformat": 4,
 "nbformat_minor": 5
}
