{
 "cells": [
  {
   "cell_type": "markdown",
   "id": "8b6cf45f-dda9-4714-a5bd-8775e63ee938",
   "metadata": {},
   "source": [
    "<h1><center>Supervised Machine Learning (with Scikit-Learn)</center></h1>"
   ]
  },
  {
   "cell_type": "markdown",
   "id": "3e811f16-6712-48e9-ac8b-38a0c5115ebd",
   "metadata": {},
   "source": [
    "<h2><center>Prediction (with Linear Regression algorythm)</center></h2>"
   ]
  },
  {
   "cell_type": "markdown",
   "id": "7f92f424-8625-4ca3-a480-736c54458772",
   "metadata": {},
   "source": [
    "<b>The AI Global Index was calculated by <a href = \"https://www.tortoisemedia.com/intelligence/global-ai/\">Tortoise Media </a> via weighting and summarizing 7 indicators: Talent, Infrastructure, Operating Environment, Research, Development, Government Strategy, Commercial. Unfortunately, I couldn't find the weights of each indicator and find out how the AI Global Index was exactly calculated.</b>\n",
    "\n",
    "<b>Therefore, in this project I'm going to build a regression model that will predict the AI Global Index basing on the values of the 7 mentioned indicators. As a side effect I'm going to identify the most significant indicators for the AI growth.</b>"
   ]
  },
  {
   "cell_type": "code",
   "execution_count": 3,
   "id": "8753fd27-0355-4f23-b57d-137a92d6d0d8",
   "metadata": {},
   "outputs": [],
   "source": [
    "# Import libraries\n",
    "import pandas as pd\n",
    "import numpy as np"
   ]
  },
  {
   "cell_type": "code",
   "execution_count": 4,
   "id": "b7e5a4b5-35fd-4e21-95b4-4e32385bd3b3",
   "metadata": {},
   "outputs": [
    {
     "data": {
      "text/html": [
       "<div>\n",
       "<style scoped>\n",
       "    .dataframe tbody tr th:only-of-type {\n",
       "        vertical-align: middle;\n",
       "    }\n",
       "\n",
       "    .dataframe tbody tr th {\n",
       "        vertical-align: top;\n",
       "    }\n",
       "\n",
       "    .dataframe thead th {\n",
       "        text-align: right;\n",
       "    }\n",
       "</style>\n",
       "<table border=\"1\" class=\"dataframe\">\n",
       "  <thead>\n",
       "    <tr style=\"text-align: right;\">\n",
       "      <th></th>\n",
       "      <th>Talent</th>\n",
       "      <th>Infrastructure</th>\n",
       "      <th>Operating Environment</th>\n",
       "      <th>Research</th>\n",
       "      <th>Development</th>\n",
       "      <th>Government Strategy</th>\n",
       "      <th>Commercial</th>\n",
       "      <th>Total score</th>\n",
       "      <th>Region</th>\n",
       "      <th>Cluster</th>\n",
       "      <th>Income group</th>\n",
       "      <th>Political regime</th>\n",
       "    </tr>\n",
       "    <tr>\n",
       "      <th>Country</th>\n",
       "      <th></th>\n",
       "      <th></th>\n",
       "      <th></th>\n",
       "      <th></th>\n",
       "      <th></th>\n",
       "      <th></th>\n",
       "      <th></th>\n",
       "      <th></th>\n",
       "      <th></th>\n",
       "      <th></th>\n",
       "      <th></th>\n",
       "      <th></th>\n",
       "    </tr>\n",
       "  </thead>\n",
       "  <tbody>\n",
       "    <tr>\n",
       "      <th>United States of America</th>\n",
       "      <td>100.00</td>\n",
       "      <td>94.02</td>\n",
       "      <td>64.56</td>\n",
       "      <td>100.00</td>\n",
       "      <td>100.00</td>\n",
       "      <td>77.39</td>\n",
       "      <td>100.00</td>\n",
       "      <td>100.00</td>\n",
       "      <td>Americas</td>\n",
       "      <td>Power players</td>\n",
       "      <td>High</td>\n",
       "      <td>Liberal democracy</td>\n",
       "    </tr>\n",
       "    <tr>\n",
       "      <th>China</th>\n",
       "      <td>16.51</td>\n",
       "      <td>100.00</td>\n",
       "      <td>91.57</td>\n",
       "      <td>71.42</td>\n",
       "      <td>79.97</td>\n",
       "      <td>94.87</td>\n",
       "      <td>44.02</td>\n",
       "      <td>62.92</td>\n",
       "      <td>Asia-Pacific</td>\n",
       "      <td>Power players</td>\n",
       "      <td>Upper middle</td>\n",
       "      <td>Closed autocracy</td>\n",
       "    </tr>\n",
       "    <tr>\n",
       "      <th>United Kingdom</th>\n",
       "      <td>39.65</td>\n",
       "      <td>71.43</td>\n",
       "      <td>74.65</td>\n",
       "      <td>36.50</td>\n",
       "      <td>25.03</td>\n",
       "      <td>82.82</td>\n",
       "      <td>18.91</td>\n",
       "      <td>40.93</td>\n",
       "      <td>Europe</td>\n",
       "      <td>Traditional champions</td>\n",
       "      <td>High</td>\n",
       "      <td>Liberal democracy</td>\n",
       "    </tr>\n",
       "    <tr>\n",
       "      <th>Canada</th>\n",
       "      <td>31.28</td>\n",
       "      <td>77.05</td>\n",
       "      <td>93.94</td>\n",
       "      <td>30.67</td>\n",
       "      <td>25.78</td>\n",
       "      <td>100.00</td>\n",
       "      <td>14.88</td>\n",
       "      <td>40.19</td>\n",
       "      <td>Americas</td>\n",
       "      <td>Traditional champions</td>\n",
       "      <td>High</td>\n",
       "      <td>Liberal democracy</td>\n",
       "    </tr>\n",
       "    <tr>\n",
       "      <th>Israel</th>\n",
       "      <td>35.76</td>\n",
       "      <td>67.58</td>\n",
       "      <td>82.44</td>\n",
       "      <td>32.63</td>\n",
       "      <td>27.96</td>\n",
       "      <td>43.91</td>\n",
       "      <td>27.33</td>\n",
       "      <td>39.89</td>\n",
       "      <td>Middle East</td>\n",
       "      <td>Rising stars</td>\n",
       "      <td>High</td>\n",
       "      <td>Liberal democracy</td>\n",
       "    </tr>\n",
       "  </tbody>\n",
       "</table>\n",
       "</div>"
      ],
      "text/plain": [
       "                          Talent  Infrastructure  Operating Environment  \\\n",
       "Country                                                                   \n",
       "United States of America  100.00           94.02                  64.56   \n",
       "China                      16.51          100.00                  91.57   \n",
       "United Kingdom             39.65           71.43                  74.65   \n",
       "Canada                     31.28           77.05                  93.94   \n",
       "Israel                     35.76           67.58                  82.44   \n",
       "\n",
       "                          Research  Development  Government Strategy  \\\n",
       "Country                                                                \n",
       "United States of America    100.00       100.00                77.39   \n",
       "China                        71.42        79.97                94.87   \n",
       "United Kingdom               36.50        25.03                82.82   \n",
       "Canada                       30.67        25.78               100.00   \n",
       "Israel                       32.63        27.96                43.91   \n",
       "\n",
       "                          Commercial  Total score        Region  \\\n",
       "Country                                                           \n",
       "United States of America      100.00       100.00      Americas   \n",
       "China                          44.02        62.92  Asia-Pacific   \n",
       "United Kingdom                 18.91        40.93        Europe   \n",
       "Canada                         14.88        40.19      Americas   \n",
       "Israel                         27.33        39.89   Middle East   \n",
       "\n",
       "                                        Cluster  Income group  \\\n",
       "Country                                                         \n",
       "United States of America          Power players          High   \n",
       "China                             Power players  Upper middle   \n",
       "United Kingdom            Traditional champions          High   \n",
       "Canada                    Traditional champions          High   \n",
       "Israel                             Rising stars          High   \n",
       "\n",
       "                           Political regime  \n",
       "Country                                      \n",
       "United States of America  Liberal democracy  \n",
       "China                      Closed autocracy  \n",
       "United Kingdom            Liberal democracy  \n",
       "Canada                    Liberal democracy  \n",
       "Israel                    Liberal democracy  "
      ]
     },
     "execution_count": 4,
     "metadata": {},
     "output_type": "execute_result"
    }
   ],
   "source": [
    "# Import dataset\n",
    "filename = \"AI_index_db.csv\"\n",
    "df = pd.read_csv(filename, index_col=0)\n",
    "df.head(5)"
   ]
  },
  {
   "cell_type": "markdown",
   "id": "1ea06c9a-0cc9-4605-8c7e-f6403b93f2b2",
   "metadata": {},
   "source": [
    "First we have to create features. \n",
    "Let's pretend that we don't know that the Global AI Index depends on all of the 7 indicators and check just one, e.g. talent. Just as an example of assessing the relationship between one feature and target values."
   ]
  },
  {
   "cell_type": "code",
   "execution_count": 41,
   "id": "f86babb7-d914-4bdc-adb8-0b109df92a01",
   "metadata": {},
   "outputs": [
    {
     "name": "stdout",
     "output_type": "stream",
     "text": [
      "(62, 1) (62,)\n"
     ]
    }
   ],
   "source": [
    "# Create X from the Talent column's values\n",
    "X = df[[\"Talent\"]].values\n",
    "\n",
    "# Create y from the Total score column's values which are the Global AI index values\n",
    "y = df[\"Total score\"].values\n",
    "\n",
    "# Check the shape of the features and targets\n",
    "print(X.shape, y.shape)"
   ]
  },
  {
   "cell_type": "markdown",
   "id": "813fac37-7727-4210-a54e-a6a973de92f2",
   "metadata": {},
   "source": [
    "Now we have created our feature and target arrays, we will train a linear regression model on feature and target values.\n",
    "As the goal is to assess the relationship between the feature and target values there is no need to split the data into training and test sets."
   ]
  },
  {
   "cell_type": "code",
   "execution_count": 40,
   "id": "422623e1-a2e8-4136-86f6-f64e69021649",
   "metadata": {},
   "outputs": [
    {
     "name": "stdout",
     "output_type": "stream",
     "text": [
      "Predictions: [95.19720655 23.66358187 43.48976555 36.31841043 40.15684184], Actual Values: [100.    62.92  40.93  40.19  39.89]\n"
     ]
    }
   ],
   "source": [
    "# Import LinearRegression\n",
    "from sklearn.linear_model import LinearRegression\n",
    "\n",
    "# Create the model\n",
    "reg = LinearRegression()\n",
    "\n",
    "# Fit the model to the data\n",
    "reg.fit(X, y)\n",
    "\n",
    "# Make predictions\n",
    "predictions = reg.predict(X)\n",
    "\n",
    "print(\"Predictions: {}, Actual Values: {}\".format(predictions[:5], y[:5]))"
   ]
  },
  {
   "cell_type": "markdown",
   "id": "fe256871-ca29-474f-abf1-f8ccdcd6674c",
   "metadata": {},
   "source": [
    "The prediction for China looks awful! Predicted 23.66 in comparison with actual 62.92! Other predictions don't look very bad, but they are far away from being perfect. \n",
    "\n",
    "Now we can visualize how well the model fits the data. This allows us to interpret the relationship between Talent and The Global AI Index."
   ]
  },
  {
   "cell_type": "code",
   "execution_count": 22,
   "id": "ac4157f6-d673-48a4-95e1-f963ba24c5aa",
   "metadata": {},
   "outputs": [
    {
     "data": {
      "image/png": "[encoded data removed]",
      "text/plain": [
       "<Figure size 640x480 with 1 Axes>"
      ]
     },
     "metadata": {},
     "output_type": "display_data"
    }
   ],
   "source": [
    "# Import matplotlib.pyplot\n",
    "import matplotlib.pyplot as plt\n",
    "\n",
    "# Create scatter plot\n",
    "plt.scatter(X, y, color=\"blue\")\n",
    "\n",
    "# Create line plot\n",
    "plt.plot(X, predictions, color=\"red\")\n",
    "plt.xlabel(\"Talent\")\n",
    "plt.ylabel(\"The AI Global Index\")\n",
    "\n",
    "# Display the plot\n",
    "plt.show()"
   ]
  },
  {
   "cell_type": "markdown",
   "id": "129e6cb6-0ef4-4ef9-bcbb-0e46b262189f",
   "metadata": {},
   "source": [
    "The model nicely captures a near-perfect linear correlation between Talent indicator and The Global Ai Index. However, let's make our predictions more accurate taking into consideration all 7 indicators we mentioned before.\n",
    "To reach this, we have to create a multiple linear regression model using all of the 7 indicators."
   ]
  },
  {
   "cell_type": "code",
   "execution_count": 42,
   "id": "0e3255fb-a8e1-44ef-8a3b-2bfde7e5b2e5",
   "metadata": {},
   "outputs": [
    {
     "name": "stdout",
     "output_type": "stream",
     "text": [
      "Predictions: [25.79533183 11.61788696 30.25060742 26.59866239 40.93211759], Actual Values: [25.79 11.62 30.25 26.6  40.93]\n"
     ]
    }
   ],
   "source": [
    "# Import the module\n",
    "from sklearn.model_selection import train_test_split\n",
    "\n",
    "# Create X and y arrays\n",
    "X = df[[\"Talent\", \"Infrastructure\", \"Operating Environment\", \"Research\", \"Development\", \"Government Strategy\", \"Commercial\"]].values\n",
    "y = df[\"Total score\"].values\n",
    "\n",
    "X_train, X_test, y_train, y_test = train_test_split(X, y, test_size=0.3, random_state=21)\n",
    "\n",
    "# Instantiate the model\n",
    "reg = LinearRegression()\n",
    "\n",
    "# Fit the model to the data\n",
    "reg.fit(X_train, y_train)\n",
    "\n",
    "# Make predictions\n",
    "y_pred = reg.predict(X_test)\n",
    "print(\"Predictions: {}, Actual Values: {}\".format(y_pred[:5], y_test[:5]))"
   ]
  },
  {
   "cell_type": "markdown",
   "id": "2b1ef40a-e85b-4bfb-85ea-e14995b42e49",
   "metadata": {},
   "source": [
    "Looks great! Our next task is to find out how well the features can explain the variance in the target values, along with assessing the model's ability to make predictions on unseen data."
   ]
  },
  {
   "cell_type": "code",
   "execution_count": 26,
   "id": "9897959c-6330-40cc-a59c-3c2375a014d0",
   "metadata": {},
   "outputs": [
    {
     "name": "stdout",
     "output_type": "stream",
     "text": [
      "R^2: 0.9999998271705571\n",
      "RMSE: 0.003736512423876222\n"
     ]
    }
   ],
   "source": [
    "# Import mean_squared_error\n",
    "from sklearn.metrics import mean_squared_error\n",
    "\n",
    "# Compute R-squared\n",
    "r_squared = reg.score(X_test, y_test)\n",
    "\n",
    "# Compute RMSE\n",
    "rmse = mean_squared_error(y_test, y_pred, squared=False)\n",
    "\n",
    "# Print the metrics\n",
    "print(\"R^2: {}\".format(r_squared))\n",
    "print(\"RMSE: {}\".format(rmse))"
   ]
  },
  {
   "cell_type": "markdown",
   "id": "ec0e88d1-b3a0-4898-bca6-24744910b0ec",
   "metadata": {},
   "source": [
    "The features explain 99.9% of the Global AI Index values! It's obvious since we know the Global AI Index was calculated through the features indicators though we don't know the weights of each indicator)."
   ]
  },
  {
   "cell_type": "markdown",
   "id": "c36daeef-efda-4734-ab3e-cfb6a3368ace",
   "metadata": {},
   "source": [
    "<blockquote>Cross-validation is a vital approach to evaluating a model. It maximizes the amount of data that is available to the model, as the model is not only trained but also tested on all of the available data.</blockquote>\n",
    "\n",
    "Therefore, at the next step we have to build a linear regression model using 6-fold cross-validation to assess its accuracy for predicting the Global AI Index using 7 indicators of Infrustructure, Investment and Implementation of AI. And display the individual score for each of the six-folds."
   ]
  },
  {
   "cell_type": "code",
   "execution_count": 30,
   "id": "e06d5580-a247-4f84-9741-7c4f7c2d09b4",
   "metadata": {},
   "outputs": [
    {
     "name": "stdout",
     "output_type": "stream",
     "text": [
      "Cross-validation scores: [0.99999979 0.99999982 0.99999997 0.99999996 0.99999987 0.99999981]\n"
     ]
    }
   ],
   "source": [
    "# Import the necessary modules\n",
    "from sklearn.model_selection import cross_val_score, KFold\n",
    "\n",
    "# Create a KFold object\n",
    "kf = KFold(n_splits=6, shuffle=True, random_state=5)\n",
    "\n",
    "reg = LinearRegression()\n",
    "\n",
    "# Compute 6-fold cross-validation scores\n",
    "cv_scores = cross_val_score(reg, X, y, cv=kf)\n",
    "\n",
    "# Print scores\n",
    "print(\"Cross-validation scores:\", cv_scores)"
   ]
  },
  {
   "cell_type": "markdown",
   "id": "81208726-c762-4ca7-9e2e-87c8b5f87745",
   "metadata": {},
   "source": [
    "By using cross-validation, we can see how performance varies depending on how the data is split. Actually, in our case the way we split the data doesn't change the accuracy significantly."
   ]
  },
  {
   "cell_type": "markdown",
   "id": "d074376f-9c19-4c8a-8a6e-71ce53c48e49",
   "metadata": {},
   "source": [
    "<blockquote>Ridge regression performs regularization by computing the squared values of the model parameters multiplied by alpha and adding them to the loss function.</blockquote>"
   ]
  },
  {
   "cell_type": "markdown",
   "id": "afa702bd-a57a-49be-ac30-2e94f1172b66",
   "metadata": {},
   "source": [
    "Let's imply Ridge."
   ]
  },
  {
   "cell_type": "code",
   "execution_count": 29,
   "id": "5c902035-453e-40e9-81ab-eb6ec740a0d6",
   "metadata": {},
   "outputs": [
    {
     "name": "stdout",
     "output_type": "stream",
     "text": [
      "Ridge scores: [0.9999998263154828, 0.9999998176264873, 0.9999996324400697, 0.9999879983575798, 0.9989687641394047, 0.9551200327529987]\n"
     ]
    }
   ],
   "source": [
    "# Import Ridge\n",
    "from sklearn.linear_model import Ridge\n",
    "alphas = [0.1, 1.0, 10.0, 100.0, 1000.0, 10000.0]\n",
    "ridge_scores = []\n",
    "for alpha in alphas:\n",
    "  \n",
    "  # Create a Ridge regression model\n",
    "  ridge = Ridge(alpha=alpha)\n",
    "  \n",
    "  # Fit the data\n",
    "  ridge.fit(X_train, y_train)\n",
    "  \n",
    "  # Obtain R-squared\n",
    "  score = ridge.score(X_test, y_test)\n",
    "  ridge_scores.append(score)\n",
    "print(\"Ridge scores:\", ridge_scores)"
   ]
  },
  {
   "cell_type": "markdown",
   "id": "daec7e99-b2d7-403c-9cbc-1665472260d9",
   "metadata": {},
   "source": [
    "Well done! The scores don't appear to change much as alpha increases, which is indicative of how well the features explain the variance in the target—even by heavily penalizing large coefficients, underfitting does not occur."
   ]
  },
  {
   "cell_type": "markdown",
   "id": "5618e7f2-352b-482a-9f77-d2cafa217f22",
   "metadata": {},
   "source": [
    "Let's see now which indicator has the highest weight for the Global AI Index."
   ]
  },
  {
   "cell_type": "code",
   "execution_count": 35,
   "id": "1022354b-b253-4422-a429-5415fc31782d",
   "metadata": {},
   "outputs": [
    {
     "name": "stdout",
     "output_type": "stream",
     "text": [
      "Coefficients: [0.22804777 0.13679835 0.09093496 0.22956978 0.13732671 0.04568093\n",
      " 0.22673813]\n"
     ]
    },
    {
     "data": {
      "image/png": "[encoded data removed]",
      "text/plain": [
       "<Figure size 640x480 with 1 Axes>"
      ]
     },
     "metadata": {},
     "output_type": "display_data"
    }
   ],
   "source": [
    "# Import Lasso\n",
    "from sklearn.linear_model import Lasso\n",
    "\n",
    "# Instantiate a lasso regression model\n",
    "lasso = Lasso(alpha=0.3)\n",
    "\n",
    "# Fit the model to the data\n",
    "lasso.fit(X, y)\n",
    "\n",
    "# Compute and print the coefficients\n",
    "lasso_coef = lasso.fit(X, y).coef_\n",
    "print(\"Coefficients:\", lasso_coef)\n",
    "\n",
    "columns = [\"Talent\", \"Infrastructure\", \"Operating Environment\", \"Research\", \"Development\", \"Government Strategy\", \"Commercial\"]\n",
    "plt.bar(columns, lasso_coef)\n",
    "plt.xticks(rotation=90)\n",
    "plt.show()"
   ]
  },
  {
   "cell_type": "markdown",
   "id": "d39e462b-ef7f-4dce-9a9b-758b512378e6",
   "metadata": {},
   "source": [
    "It looks like Research indicator has the highest impact on the Global AI Index following by Talent and Commercial indicators."
   ]
  }
 ],
 "metadata": {
  "kernelspec": {
   "display_name": "Python 3 (ipykernel)",
   "language": "python",
   "name": "python3"
  },
  "language_info": {
   "codemirror_mode": {
    "name": "ipython",
    "version": 3
   },
   "file_extension": ".py",
   "mimetype": "text/x-python",
   "name": "python",
   "nbconvert_exporter": "python",
   "pygments_lexer": "ipython3",
   "version": "3.10.8"
  }
 },
 "nbformat": 4,
 "nbformat_minor": 5
}
